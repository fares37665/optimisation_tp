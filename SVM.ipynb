{
  "nbformat": 4,
  "nbformat_minor": 0,
  "metadata": {
    "kernelspec": {
      "display_name": "Python 3",
      "language": "python",
      "name": "python3"
    },
    "language_info": {
      "codemirror_mode": {
        "name": "ipython",
        "version": 3
      },
      "file_extension": ".py",
      "mimetype": "text/x-python",
      "name": "python",
      "nbconvert_exporter": "python",
      "pygments_lexer": "ipython3",
      "version": "3.7.5"
    },
    "colab": {
      "name": "SVM.ipynb",
      "provenance": [],
      "toc_visible": true,
      "include_colab_link": true
    }
  },
  "cells": [
    {
      "cell_type": "markdown",
      "metadata": {
        "id": "view-in-github",
        "colab_type": "text"
      },
      "source": [
        "<a href=\"https://colab.research.google.com/github/fares37665/optimisation_tp/blob/master/SVM.ipynb\" target=\"_parent\"><img src=\"https://colab.research.google.com/assets/colab-badge.svg\" alt=\"Open In Colab\"/></a>"
      ]
    },
    {
      "cell_type": "code",
      "metadata": {
        "id": "fdczXygbu9Uo",
        "colab_type": "code",
        "colab": {}
      },
      "source": [
        "import numpy as np\n",
        "import matplotlib.pyplot as plt"
      ],
      "execution_count": 0,
      "outputs": []
    },
    {
      "cell_type": "code",
      "metadata": {
        "id": "XYjm2y9CvTLw",
        "colab_type": "code",
        "colab": {}
      },
      "source": [
        "import numpy as np\n",
        "\n",
        "def load_breastcancer(filename):\n",
        "    \"\"\"\n",
        "    Cette fonction lit le fichier filename, par exemple\n",
        "    filename = 'wdbc_M1_B0.data'\n",
        "    Elle retourne \n",
        "    X : une matrice de caracteristiques\n",
        "    y : un vecteur des classes tel que si y[i] = 1, la tumeur est maligne\n",
        "        et si y[i] = -1, la tumeur est benigne\n",
        "\n",
        "    Pour plus d'infos sur la base de donnees,\n",
        "    https://archive.ics.uci.edu/ml/datasets/Breast+Cancer+Wisconsin+%28Prognostic%29\n",
        "    \"\"\"\n",
        "\n",
        "    data = np.loadtxt(filename, delimiter=',')\n",
        "\n",
        "    # la colonne 0 ne nous interesse pas ici\n",
        "    y = data[:, 1] * 2 - 1\n",
        "    X = data[:, 2:]\n",
        "\n",
        "    # Standardisation de la matrice\n",
        "    X = X - np.mean(X, axis=0)\n",
        "    X = X / np.std(X, axis=0)\n",
        "\n",
        "    return X, y\n",
        "\n"
      ],
      "execution_count": 0,
      "outputs": []
    },
    {
      "cell_type": "markdown",
      "metadata": {
        "id": "NPVu0Ww8u9Us",
        "colab_type": "text"
      },
      "source": [
        "## 1. Données"
      ]
    },
    {
      "cell_type": "code",
      "metadata": {
        "id": "kSAkuYDFu9Ut",
        "colab_type": "code",
        "colab": {}
      },
      "source": [
        "#from breastcancerutils import *\n",
        "\n",
        "# X est un dataset de caractéristiques\n",
        "# y est un vecteur de classe tel que si y[i]=1,la tumeur est maligne, et si y[i]=-1, la tumeur est bénigne.\n",
        "X, y = load_breastcancer('wdbcM1B0.data.txt')"
      ],
      "execution_count": 0,
      "outputs": []
    },
    {
      "cell_type": "code",
      "metadata": {
        "id": "i6g5TROIu9Ux",
        "colab_type": "code",
        "outputId": "8a973aea-236a-4abe-f865-048f741a3be6",
        "colab": {
          "base_uri": "https://localhost:8080/",
          "height": 34
        }
      },
      "source": [
        "print(X.shape)"
      ],
      "execution_count": 0,
      "outputs": [
        {
          "output_type": "stream",
          "text": [
            "(569, 30)\n"
          ],
          "name": "stdout"
        }
      ]
    },
    {
      "cell_type": "markdown",
      "metadata": {
        "id": "jkTtT6EZu9U1",
        "colab_type": "text"
      },
      "source": [
        "## 2. Méthode du sous-gradient"
      ]
    },
    {
      "cell_type": "markdown",
      "metadata": {
        "id": "_hvCGSR5u9U3",
        "colab_type": "text"
      },
      "source": [
        "### 2.1\n",
        "\n",
        "Let $\\xi*$such that $\\xi*_i=max(0,1-y_i(x_i^Tv+a))$\n",
        "\n",
        "Let $f(a,v,\\xi)=\\frac{1}{2}\\sum_{j=1}^mv_j^2+c\\sum_{i=1}^n\\xi_i$\n",
        "On one hand,\n",
        "$f(a,v,\\xi*)=\\frac{1}{2}\\sum_{j=1}^mv_j^2+c\\sum_{i=1}^nmax(0,1-y_i(x_i^Tv+a))$\n",
        "\n",
        "$f(a,v,\\xi*)\\geq\\min_{\\xi_i\\geq0, \\xi_i\\geq1-y_i(x_i^Tv+a)}f(a,v,\\xi)$\n",
        "\n",
        "Thus,by applying to the min on the left hand side:\n",
        "$\\min_{\\xi_i\\geq0, \\xi_i\\geq1-y_i(x_i^Tv+a)}f(a,v,\\xi)\\leq \\min_{a,v}f(a,v,\\xi*)$\n",
        "\n",
        "On the other hand,\n",
        "$\\forall \\xi_i, \\xi_i\\geq0 , \\xi_i\\geq1-y_i(x_i^Tv+a) \\rightarrow \\xi_i\\geq \\mathrm{max}(0,1-y_i(x_i^Tv+a))$\n",
        "\n",
        "Thus, under contraints on $\\xi$,\n",
        "$f(a,v,\\xi)\\geq f(a,v,\\xi*)$\n",
        "\n",
        "Thus,\n",
        "$\\min_{\\xi_i\\geq0, \\xi_i\\leq1-y_i(x_i^Tv+a)}f(a,v,\\xi)\\geq \\min_{a,v}f(a,v,\\xi*)$\n",
        "\n",
        "\n",
        "Which shows the equality between the 2 minimas.\n",
        "\n",
        "\n",
        "\n"
      ]
    },
    {
      "cell_type": "markdown",
      "metadata": {
        "id": "XpF-mFp2u9U4",
        "colab_type": "text"
      },
      "source": [
        "### 2.2\n",
        "\n",
        "We verify graphicaly the result stated in the teaching document."
      ]
    },
    {
      "cell_type": "code",
      "metadata": {
        "id": "aGVLFz9Eu9U5",
        "colab_type": "code",
        "outputId": "7fad7561-3330-4c14-ee95-f90f46931fb3",
        "colab": {
          "base_uri": "https://localhost:8080/",
          "height": 282
        }
      },
      "source": [
        "u = np.linspace(-2, 5, 100)\n",
        "plt.plot(u, ([1-u > 0]*(1-u)).T)"
      ],
      "execution_count": 0,
      "outputs": [
        {
          "output_type": "execute_result",
          "data": {
            "text/plain": [
              "[<matplotlib.lines.Line2D at 0x7f4443860438>]"
            ]
          },
          "metadata": {
            "tags": []
          },
          "execution_count": 11
        },
        {
          "output_type": "display_data",
          "data": {
            "image/png": "[encoded data removed]",
            "text/plain": [
              "<Figure size 432x288 with 1 Axes>"
            ]
          },
          "metadata": {
            "tags": []
          }
        }
      ]
    },
    {
      "cell_type": "markdown",
      "metadata": {
        "id": "oUPNgAzEu9U8",
        "colab_type": "text"
      },
      "source": [
        "### 2.3\n",
        "\n",
        "$\\begin{align*}\\\\\n",
        "f(v,a) &= \\frac{1}{2} \\sum_{j=1}^m v_j^2 + c \\sum_{i=1}^{m}\\max(0,1-y_i(x_i^Tv + a))\\\\\n",
        "&=  N(v,a) + c \\sum_{i=1}^{m} \\max(0, 1-M(v,a))\\\\\n",
        "&=  N(v,a) + c H(M(v,a))\\\\\n",
        "\\end{align*}$\n",
        "\n",
        "With $M$ obviously linear, and $N$ and $H$ two functions. \n",
        "\n",
        "Thus, using 2.4.2 formula,\n",
        "\n",
        "$\\begin{align*}\\\\\n",
        "\\partial f(v,a) &= \\partial (N + cH \\circ M)(v, a)\\\\\n",
        "&= \\partial N + c \\partial(H \\circ M)(v,a) \\\\\n",
        "&= \\partial N(v,a)  + c M^T \\partial H(M(v,a)) \n",
        "\\end{align*}$\n",
        "\n",
        "We have $N(v,a) = \\frac{1}{2} \\|v\\|^2 $\n",
        "\n",
        "Thus $\\partial N(v,a) = \\{ (\\nabla N(v,a), 0) \\} = \\{(v, 0)\\}$\n",
        "\n",
        "$H(z)=\\sum_imax(0,1-z_i)$\n",
        "\n",
        "$\\partial H(z)=\\partial h(z_1)\\times...\\times\\partial h(z_n)$"
      ]
    },
    {
      "cell_type": "markdown",
      "metadata": {
        "id": "pQvfymTWu9U-",
        "colab_type": "text"
      },
      "source": [
        "### 2.4"
      ]
    },
    {
      "cell_type": "code",
      "metadata": {
        "id": "Go4zqS-1u9U_",
        "colab_type": "code",
        "colab": {}
      },
      "source": [
        "n = X.shape[0]\n",
        "m = X.shape[1]\n",
        "M = np.zeros((n, m+1))\n",
        "for i in range(n):\n",
        "    M[i, :-1] = y[i]*X[i,:].T\n",
        "    M[i, -1] = y[i]\n",
        "\n",
        "def func_f(v, a, c=1):\n",
        "    h = np.zeros(X.shape[0])\n",
        "    for i in range(X.shape[0]):\n",
        "        h[i] = max(0, 1 - y[i]*(X[i,:].T.dot(v) + a))\n",
        "    output = .5 * np.sum(v**2) + c * np.sum(h)\n",
        "    return output\n",
        "\n",
        "def dronde_f(v, a, c=1):\n",
        "    #h = np.zeros(X.shape[0])\n",
        "    #for i in range(X.shape[0]):\n",
        "    #    h[i] = dronde_h(y[i]*(X[i,:].T.dot(v) + a))\n",
        "    \n",
        "    # Faster calculation :\n",
        "    h = (y*(X.dot(v) + a) < 1 )*(-1)\n",
        "    h = M.T.dot(h)\n",
        "    v_ = np.concatenate((v, np.array([0])), axis=0)\n",
        "    return v_ + c*h\n",
        "\n",
        "def dronde_h(z):\n",
        "    if z < 1:\n",
        "        return -1\n",
        "    elif z == 1:\n",
        "        return np.random.random() # Personal choice\n",
        "    else:\n",
        "        return 0\n"
      ],
      "execution_count": 0,
      "outputs": []
    },
    {
      "cell_type": "markdown",
      "metadata": {
        "id": "jyTHn_uIu9VG",
        "colab_type": "text"
      },
      "source": [
        "### 2.5"
      ]
    },
    {
      "cell_type": "code",
      "metadata": {
        "id": "ehzH5h-8u9VH",
        "colab_type": "code",
        "outputId": "0d50a524-33de-4795-807d-c0a42ff0d91e",
        "colab": {
          "base_uri": "https://localhost:8080/",
          "height": 136
        }
      },
      "source": [
        "import matplotlib.pyplot as plt \n",
        "\n",
        "values_of_f = []\n",
        "\n",
        "def subgradient_method(f, df, v0, a0, n=5000, store=True):\n",
        "    x = np.concatenate((v0, np.array([a0])))\n",
        "    for k in range(n):\n",
        "        gamma = 1/(k+1)\n",
        "        x = x - gamma*df(x[:-1], x[-1])\n",
        "        if store and k>1: values_of_f.append(func_f(x[:m], x[m]))\n",
        "    return x\n",
        "\n",
        "result = subgradient_method(func_f, dronde_f, np.zeros(m), 0)\n",
        "print(result)\n",
        "print('Final value of f :', func_f(result[:m], result[m]))"
      ],
      "execution_count": 0,
      "outputs": [
        {
          "output_type": "stream",
          "text": [
            "[ 0.39474548  0.08535572  0.39000247  0.15075806 -0.03287264 -0.64038313\n",
            "  0.75774368  0.872357    0.01043979 -0.26191594  1.00740524 -0.29556144\n",
            "  0.1981118   0.78556122  0.28097206 -0.38661457 -0.34522796  0.48642371\n",
            " -0.11374946 -0.80376437  0.75025898  1.05217423  0.45368399  0.54284548\n",
            "  0.51394571 -0.26416771  0.94865232  0.26297437  0.5153429   0.78909274\n",
            " -0.06905928]\n",
            "Final value of f : 26.6754972402733\n"
          ],
          "name": "stdout"
        }
      ]
    },
    {
      "cell_type": "code",
      "metadata": {
        "id": "RoDrfjwCu9VK",
        "colab_type": "code",
        "outputId": "e6feacc1-deb6-4008-aaed-027e483aee6f",
        "colab": {
          "base_uri": "https://localhost:8080/",
          "height": 295
        }
      },
      "source": [
        "plt.plot(values_of_f)\n",
        "plt.title(\"Subgradient method : convergence speed\")\n",
        "plt.xlabel(\"Iteration k\")\n",
        "plt.ylabel(\"Value of f(x_k)\")\n",
        "plt.show()"
      ],
      "execution_count": 0,
      "outputs": [
        {
          "output_type": "display_data",
          "data": {
            "image/png": "[encoded data removed]",
            "text/plain": [
              "<Figure size 432x288 with 1 Axes>"
            ]
          },
          "metadata": {
            "tags": []
          }
        }
      ]
    },
    {
      "cell_type": "markdown",
      "metadata": {
        "id": "xGkJy80bu9VN",
        "colab_type": "text"
      },
      "source": [
        "## 3. Méthode du sous-gradient stochastique\n",
        "\n",
        "### 3.1"
      ]
    },
    {
      "cell_type": "markdown",
      "metadata": {
        "id": "6QE4qZ7su9VO",
        "colab_type": "text"
      },
      "source": [
        "$f_i(v,a)=\\frac{1}{2}\\sum_jv_j^2 +cnmax(0,1-y_i(x_i^Tv+a))$\n",
        "\\begin{align*}\n",
        "    \\mathbb{E}[f_i(v,a)]&=\\frac{1}{n} \\sum_i f_i(v,a)\\\\\n",
        "    &=\\frac{1}{n}\\sum_i(\\frac{1}{2}\\sum_jv_j^2 + cnmax(0,1-y_i(x_i^Tv+a)))\\\\\n",
        "    &=\\frac{1}{2}\\sum_jv_j^2 + \\sum_imax(0,1-y_i(x_i^Tv+a))\\\\\n",
        "    &=f(v,a)\\\\\n",
        "\\end{align*}"
      ]
    },
    {
      "cell_type": "markdown",
      "metadata": {
        "id": "JBHvG_gWu9VP",
        "colab_type": "text"
      },
      "source": [
        "### 3.2"
      ]
    },
    {
      "cell_type": "markdown",
      "metadata": {
        "id": "B_bPUvxCu9VP",
        "colab_type": "text"
      },
      "source": [
        "We have that $f_i=N+cnh\\circ M_i$ Thus,\n",
        "\n",
        "$\\partial f_i(v,a)=\\partial N(v,a) + cnM_i^T\\partial h(M_i(v,a))$\n",
        "\n",
        "With $M_i=(y_ix_i^T\\quad y_i)$.\n",
        "\n",
        "Thus, \n",
        "\n",
        "$\\partial f_i=\\left(\n",
        "\\begin{array}{c}\n",
        "v+cny_ix_i\\partial h(y_i(x_i^Tv+a))\\\\\n",
        "cny_i\\partial h(y_i(x_i^Tv+a))\\\\\n",
        "\\end{array}\n",
        "\\right)$"
      ]
    },
    {
      "cell_type": "markdown",
      "metadata": {
        "id": "jyiFZa7xu9VQ",
        "colab_type": "text"
      },
      "source": [
        "### 3.3"
      ]
    },
    {
      "cell_type": "code",
      "metadata": {
        "id": "-lgSqglsu9VR",
        "colab_type": "code",
        "outputId": "6abf5809-985e-413d-cf74-9aacc1c93360",
        "colab": {
          "base_uri": "https://localhost:8080/",
          "height": 170
        }
      },
      "source": [
        "def dronde_f_i(v, a, i, c=1):\n",
        "    k = dronde_h(y[i]*(X[i,:].T.dot(v) + a))\n",
        "    h = v + c*n*k*y[i]*X[i,:]\n",
        "    output = np.concatenate((h, np.array([k*c*n*y[i]])), axis=0)\n",
        "    return output\n",
        "\n",
        "values_of_f_2 = []\n",
        "values_of_k = []\n",
        "\n",
        "def stochastic_subgradient(f, df, v0, a0, n_=100000, store=True):\n",
        "    x = np.concatenate((v0, np.array([a0])))\n",
        "    for k in range(n_):\n",
        "        gamma = 1/(k+1)\n",
        "        i = int(np.random.uniform(1, n))\n",
        "        x = x - gamma*df(x[:-1], x[-1], i)\n",
        "        if store and k>1 and k%100==0: \n",
        "            values_of_f_2.append(func_f(x[:m], x[m]))\n",
        "            values_of_k.append(k)\n",
        "    return x\n",
        "\n",
        "result = stochastic_subgradient(func_f, dronde_f_i, np.zeros(m), 0)\n",
        "print(result)\n",
        "print('Final value of f :', func_f(result[:m], result[m]))"
      ],
      "execution_count": 0,
      "outputs": [
        {
          "output_type": "stream",
          "text": [
            "[ 2.34078471e-01 -4.27994186e-04  2.29736616e-01  2.92769841e-01\n",
            "  2.03294119e-02 -5.77840875e-01  7.46081077e-01  8.57132513e-01\n",
            "  1.77220078e-02 -2.96467123e-01  8.81062355e-01 -3.31720813e-01\n",
            "  2.93954137e-01  9.89044009e-01  3.23962675e-01 -3.89911942e-01\n",
            " -4.33370890e-01  5.13160860e-01 -1.74164056e-01 -7.67649135e-01\n",
            "  7.50657375e-01  1.05555984e+00  5.08279722e-01  9.25266664e-01\n",
            "  4.95639102e-01 -2.29171021e-01  8.67158843e-01  2.23140090e-01\n",
            "  5.84804120e-01  6.61805883e-01 -4.52739714e-02]\n",
            "Final value of f : 28.571508913634\n"
          ],
          "name": "stdout"
        }
      ]
    },
    {
      "cell_type": "code",
      "metadata": {
        "id": "WUakDWY8u9VU",
        "colab_type": "code",
        "outputId": "e4c335db-0658-474d-e8f9-9d6f0c1f9756",
        "colab": {
          "base_uri": "https://localhost:8080/",
          "height": 295
        }
      },
      "source": [
        "plt.plot(values_of_k, values_of_f_2)\n",
        "plt.title(\"Stochastic gradient descent\")\n",
        "plt.xlabel(\"Iteration k\")\n",
        "plt.ylabel(\"Value of f(x_k)\")\n",
        "plt.show()"
      ],
      "execution_count": 0,
      "outputs": [
        {
          "output_type": "display_data",
          "data": {
            "image/png": "[encoded data removed]",
            "text/plain": [
              "<Figure size 432x288 with 1 Axes>"
            ]
          },
          "metadata": {
            "tags": []
          }
        }
      ]
    },
    {
      "cell_type": "markdown",
      "metadata": {
        "id": "CwCjjdysu9VW",
        "colab_type": "text"
      },
      "source": [
        "## 4. Méthode du lagrangien augmenté\n",
        "\n",
        "### 4.1"
      ]
    },
    {
      "cell_type": "markdown",
      "metadata": {
        "id": "H2SahbPPu9VX",
        "colab_type": "text"
      },
      "source": [
        "Let $f(x)=\\frac{1}{2}\\sum_jv_j^2 + c\\sum_i\\xi_i$ Such that $\\xi_i\\geq 0, \\xi_i\\geq 1-y_i(x_i^Tv+a)) $\n",
        "\n",
        "With $x=(a,v,\\xi)$\n",
        "\n",
        "$L(x,\\phi)=f(x)+\\sum_i\\phi_i(max(0,1-y_i(x_i^Tv+a))-\\xi_i)-\\iota_{\\mathbb{R}_+^n}(\\phi)$"
      ]
    },
    {
      "cell_type": "markdown",
      "metadata": {
        "id": "gQkydAHLu9VY",
        "colab_type": "text"
      },
      "source": [
        "### 4.2"
      ]
    },
    {
      "cell_type": "markdown",
      "metadata": {
        "id": "AwOhQxAyu9VZ",
        "colab_type": "text"
      },
      "source": [
        "$g(x,\\phi)=\\frac{-1}{2\\rho}\\phi^2 + \\frac{\\rho}{2} (max(0,x+\\rho^{-1}\\phi))^2$\n",
        "\n",
        "$\n",
        "\\begin{aligned}\n",
        "\\nabla_xg(x,\\phi)&=\\rho\n",
        "  \\left\\{\n",
        "      \\begin{aligned}\n",
        "        x+\\rho^{-1}\\phi\\quad \\text{if}\\quad x+\\rho^{-1}\\phi\\geq0\\\\\n",
        "        0 \\quad\\text{else}\\\\\n",
        "      \\end{aligned}\n",
        "    \\right.\\\\\n",
        "    &=\\rho \\mathrm{max}(0,x+\\rho^-1\\phi)\n",
        "\\end{aligned}\n",
        "$\n",
        "$\n",
        "\\begin{aligned}\n",
        "\\nabla_\\phi g(x,\\phi)&=\n",
        "  \\left\\{\n",
        "      \\begin{aligned}\n",
        "        -\\frac{\\phi}{\\rho}+x+\\frac{\\phi}{\\rho}\\quad \\text{if}\\quad  x+\\rho^{-1}\\phi\\geq0\\\\\n",
        "        -\\frac{\\phi}{\\rho} \\quad\\text{else}\\\\\n",
        "      \\end{aligned}\n",
        "    \\right.\\\\\n",
        "    &=\\left\\{\n",
        "      \\begin{aligned}\n",
        "        x\\quad \\text{if}\\quad  x\\geq-\\frac{\\phi}{\\rho}\\\\\n",
        "        -\\frac{\\phi}{\\rho} \\quad\\text{else}\\\\\n",
        "      \\end{aligned}\n",
        "    \\right.\\\\\n",
        "    &=\\mathrm{max}(x,-\\frac{\\phi}{\\rho})\n",
        "\\end{aligned}$"
      ]
    },
    {
      "cell_type": "markdown",
      "metadata": {
        "id": "lbApCk3Gu9Va",
        "colab_type": "text"
      },
      "source": [
        "### 4.3"
      ]
    },
    {
      "cell_type": "markdown",
      "metadata": {
        "id": "k9oZCr5nu9Vb",
        "colab_type": "text"
      },
      "source": [
        "$\\nabla_xg(x,\\phi)$ increases with respect to x, which shows that g is convex with respect to x.\n",
        "On the other hand,$\\nabla_\\phi(x,\\phi)$ decreses with respect to $\\phi$, thus, g is concav with respect to $\\phi$. "
      ]
    },
    {
      "cell_type": "markdown",
      "metadata": {
        "id": "bw9DfOvOu9Vc",
        "colab_type": "text"
      },
      "source": [
        "### 4.4\n",
        "\n",
        "For the gradient algorithm, we compute the gradient of $L$ with respect to $v, a, \\xi$.\n",
        "\n",
        "We apply the chain rule and use question 4.2 to get the followings\n",
        "$\\nabla_vL=v-\\sum_iy_ix_i\\rho max(0,-\\xi_i+1-y_i(x_i^Tv+a)+\\frac{\\psi_i}{\\rho}) $\n",
        "\n",
        "$\\nabla_aL=\\sum_i-y_i\\rho max(0,-\\xi_i+1-y_i(x_i^Tv+a)+\\frac{\\psi_i}{\\rho})$\n",
        "\n",
        "$\\nabla_{\\xi}L=c\\mathbb{1}_n+\\left(\n",
        "\\begin{array}{c}\n",
        "-\\rho max(0,-\\xi_i+\\frac{\\phi_i}{\\rho})\\\\\n",
        "...\\\\\n",
        "\\end{array}\n",
        "\\right) +\\left(\n",
        "\\begin{array}{c}\n",
        "-\\rho max(0,-\\xi_i+1-y_i(x_i^Tv+a)+\\frac{\\psi_i}{\\rho})\\\\\n",
        "...\\\\\n",
        "\\end{array}\n",
        "\\right) $\n",
        "\n",
        "$\\nabla_{\\phi}L=\\left(\n",
        "\\begin{array}{c}\n",
        "max(-\\frac{\\phi_i}{\\rho},-\\xi_i)\\\\\n",
        "...\\\\\n",
        "\\end{array}\n",
        "\\right)$\n",
        "\n",
        "$\\nabla_{\\psi}L=\\left(\n",
        "\\begin{array}{c}\n",
        "max(-\\frac{\\psi_i}{\\rho},-\\xi_i+1-y_i(x_i^Tv+a))\\\\\n",
        "...\\\\\n",
        "\\end{array}\n",
        "\\right)$"
      ]
    },
    {
      "cell_type": "code",
      "metadata": {
        "id": "kj_wm9G_u9Vd",
        "colab_type": "code",
        "outputId": "7c574d96-df5d-4787-80d9-42b7c51f0c70",
        "colab": {
          "base_uri": "https://localhost:8080/",
          "height": 1000
        }
      },
      "source": [
        "def grad_g_in_x(x, phi, ro=2):\n",
        "    #∇xg(x,φ) = ρmax(0,x+φρ)\n",
        "    return ro*np.maximum(np.zeros(x.shape), x+phi/ro)\n",
        "    \n",
        "def grad_g_in_phi(x, phi, ro=2):\n",
        "    #∇φg(x,φ) = max(−φρ,x)\n",
        "    return np.maximum(-phi/ro, x)\n",
        "\n",
        "def grad_g(x, phi, ro=2):\n",
        "    return np.concatenate((grad_g_in_x(x, phi, ro), grad_g_in_phi(x, phi, ro)))\n",
        "\n",
        "def func_g(x, phi, ro=2):\n",
        "    return -0.5*phi**2 + (ro/2)*max(0, x + phi/ro)**2\n",
        "\n",
        "def lagrangian(u, phi, psi, c=1, ro=2):\n",
        "    v, a, ksi = infer_vaksi(u)\n",
        "    h1 = np.zeros(m)\n",
        "    h2 = np.zeros(m)\n",
        "    for i in range(m):\n",
        "        shortcut = -ksi[i] + 1 - y[i]*(X[i,:].T.dot(v) + a)\n",
        "        h1[i] = func_g(-ksi[i], phi[i])\n",
        "        h2[i] = func_g(shortcut, psi[i])\n",
        "    return .5*np.linalg.norm(v)**2 + c*np.sum(ksi) + np.sum(h1) + np.sum(h2)\n",
        "\n",
        "def infer_vaksi(u):\n",
        "    if type(u) == np.ndarray:\n",
        "        v = u[:m]\n",
        "        a = u[m]\n",
        "        ksi = u[m+1:]\n",
        "    elif type(u) == list:\n",
        "        v = u[0]\n",
        "        a = u[1]\n",
        "        ksi = u[2]\n",
        "    return v, a, ksi\n",
        "\n",
        "def grad_l_in_v_a_ksi(u, phi, psi, c=1, ro=2):\n",
        "    \"\"\"u is either a np.array with (v, a, ksi) concatenated\n",
        "    either a list with the 3 params : [v, a, ksi] where each element is an np.array\"\"\"\n",
        "    #Lρ(v,a,ξ,φ,ψ) =12‖v‖22+cn∑i=1ξi+n∑i=1g(−ξi,φi) +n∑i=1g(−ξi+ 1−yi(x>iv+a),ψi)\n",
        "    v, a, ksi = infer_vaksi(u)\n",
        "    # Compute gradient of ∑i=1 g(−ξi+ 1−yi(x>iv+a),ψi)\n",
        "    \n",
        "    # These complex matrix operations optimize the gradient's computation\n",
        "    grad_in_v = v - np.sum((y*grad_g_in_x(-ksi + 1 - y*(X.dot(v) + a), phi)).reshape(-1,1).dot(np.ones((1,m)))*X, axis=0)\n",
        "    grad_in_a = np.array([np.sum(- y*grad_g_in_x(-ksi + 1 - y*(X.dot(v) + a), phi))])\n",
        "    grad_in_ksi = c - grad_g_in_x(-ksi, phi) - grad_g_in_x(-ksi + 1 - y*(X.dot(v) + a), phi)\n",
        "    grad = np.concatenate((grad_in_v, grad_in_a, grad_in_ksi))\n",
        "    return grad\n",
        " \n",
        "def solve_grad_l(grad_l, phi0, psi0, epsilon=1, ro=2):\n",
        "    #x_k = [v, a, ksi]\n",
        "    x_k = np.zeros(m+1+n)\n",
        "    gamma = 10e-4 # Empirically it works ok\n",
        "    k = 0\n",
        "    while np.linalg.norm(grad_l(x_k, phi0, psi0, ro=ro)) > epsilon:\n",
        "        x_k = x_k - gamma*grad_l(x_k, phi0, psi0, ro=ro)\n",
        "    return x_k\n",
        "\n",
        "solve_grad_l(grad_l_in_v_a_ksi, np.zeros(n,), np.zeros(n,))"
      ],
      "execution_count": 0,
      "outputs": [
        {
          "output_type": "execute_result",
          "data": {
            "text/plain": [
              "array([ 0.07862377,  0.0815796 ,  0.08059364,  0.15579354,  0.04785357,\n",
              "       -0.66265703,  0.70080713,  0.91826364, -0.04654488, -0.17890808,\n",
              "        0.88421051, -0.29620412,  0.29332295,  0.92223942,  0.28465922,\n",
              "       -0.26373526, -0.33251756,  0.46431194, -0.19220873, -0.75368424,\n",
              "        0.75795731,  1.05061544,  0.55804674,  0.91336905,  0.37203905,\n",
              "       -0.21743201,  0.77101443,  0.31535076,  0.58975418,  0.6130205 ,\n",
              "        0.0239215 , -0.48925149, -0.48925149, -0.48925149, -0.48925149,\n",
              "       -0.48925149, -0.48925149, -0.48925149, -0.48925149, -0.48925149,\n",
              "       -0.48925149, -0.48916135, -0.48925149, -0.48925149, -0.01763449,\n",
              "       -0.48925149, -0.48925149, -0.48925149, -0.48925149, -0.48925149,\n",
              "       -0.4498528 , -0.48925149, -0.48925149, -0.48925149, -0.48925149,\n",
              "       -0.48925149, -0.48925149, -0.48925149, -0.48925149, -0.48925149,\n",
              "       -0.48925149, -0.48925149, -0.48925149, -0.48925149, -0.48925149,\n",
              "       -0.48925149, -0.48925149, -0.48925149, -0.48925149, -0.39490547,\n",
              "       -0.44759147,  1.64611286, -0.39699714, -0.48925149, -0.48925149,\n",
              "       -0.48921134, -0.48925149, -0.48925149, -0.48925149, -0.48925149,\n",
              "       -0.28893428, -0.48925149, -0.48925149, -0.48925149, -0.48925149,\n",
              "       -0.4891774 , -0.48925149, -0.48925149, -0.48925149, -0.48925149,\n",
              "       -0.48925149, -0.48925149, -0.48925149, -0.48925149, -0.48925149,\n",
              "       -0.48925149, -0.48925149, -0.48925149, -0.48925149, -0.3571809 ,\n",
              "       -0.48925149, -0.48925149, -0.48925149, -0.48925149,  1.58001735,\n",
              "       -0.48925149, -0.48925149, -0.48925149, -0.48925149, -0.48925149,\n",
              "       -0.48925149, -0.48925149,  0.13841842, -0.48925149, -0.48925149,\n",
              "       -0.48925149, -0.48925149, -0.20173482, -0.48925149, -0.48830582,\n",
              "       -0.12753515, -0.48925149, -0.17214219, -0.48925149, -0.48925149,\n",
              "       -0.48925149, -0.48925149, -0.48925149, -0.48925149, -0.48925149,\n",
              "       -0.11958756, -0.48918462, -0.48925149, -0.48925149, -0.48925149,\n",
              "       -0.48925149, -0.48925149, -0.36046541, -0.48925149, -0.48925149,\n",
              "       -0.48657649, -0.48925149, -0.48925149, -0.48887485, -0.48925149,\n",
              "       -0.48925149, -0.48925149, -0.48925149, -0.48925149, -0.48925149,\n",
              "       -0.48925149, -0.48925149, -0.48925149, -0.48925149, -0.48925149,\n",
              "       -0.48925149, -0.48925149, -0.48917779, -0.48925149, -0.47941149,\n",
              "       -0.48925149, -0.48925149, -0.48925149, -0.48925149, -0.2591166 ,\n",
              "       -0.48925149,  1.16277318, -0.48925149, -0.48925149, -0.48925149,\n",
              "       -0.48925149, -0.48925149, -0.48925149, -0.48925149, -0.48925149,\n",
              "       -0.48925149, -0.48925149, -0.39679836, -0.48922872, -0.37508893,\n",
              "       -0.48925149, -0.48925149, -0.48925149, -0.48865887, -0.48925149,\n",
              "       -0.34735155, -0.48925149, -0.48925149, -0.09315126, -0.48925149,\n",
              "       -0.48925149, -0.48925149, -0.48925149, -0.48925149, -0.48925149,\n",
              "       -0.48925149, -0.48925149, -0.48925149, -0.48925149, -0.48925149,\n",
              "       -0.48925149, -0.48925149, -0.48905965, -0.48925149, -0.48925149,\n",
              "       -0.48925149, -0.48925149, -0.48925149, -0.48925149, -0.48925149,\n",
              "       -0.48925149, -0.48925149, -0.48925149, -0.48925149, -0.48925149,\n",
              "        0.04588009, -0.48925149, -0.48925149, -0.48925149, -0.48925149,\n",
              "       -0.48925149, -0.17350512, -0.48925149, -0.48925149, -0.48925149,\n",
              "       -0.26067069, -0.48925149, -0.48925149, -0.31030938, -0.48925149,\n",
              "       -0.48925149, -0.4543386 , -0.48925149, -0.48925149, -0.48925149,\n",
              "       -0.29388525, -0.12556406, -0.48925149, -0.48925149, -0.2116716 ,\n",
              "       -0.48925149, -0.48925149, -0.48925149, -0.48925149, -0.38813671,\n",
              "       -0.48925149,  0.14438069, -0.48925149, -0.48925149, -0.48925149,\n",
              "       -0.48925149, -0.48925149, -0.48925149, -0.48925149, -0.48925149,\n",
              "       -0.48925149,  0.12099108, -0.48925149, -0.48925149, -0.37981277,\n",
              "       -0.48925149, -0.48925149, -0.48925149, -0.48925149, -0.48925149,\n",
              "       -0.48925149, -0.48925149, -0.48925149, -0.48925149,  0.28582021,\n",
              "       -0.48925149, -0.48925149, -0.48925149, -0.48914292, -0.48925149,\n",
              "       -0.48925149, -0.48925149, -0.48925149, -0.48914558, -0.48925149,\n",
              "       -0.48925149, -0.48925149, -0.48925149, -0.48925149, -0.48925149,\n",
              "       -0.48925149,  0.27479336, -0.48925149, -0.48925149, -0.48925149,\n",
              "       -0.48925149, -0.48925149, -0.48647044, -0.48925149,  0.68633268,\n",
              "       -0.48925149, -0.48925149, -0.48925149, -0.48925149, -0.48925149,\n",
              "       -0.48925149, -0.48925149, -0.48925149, -0.48925149, -0.48925149,\n",
              "       -0.48925149, -0.48920766, -0.48925149, -0.48925149, -0.48925149,\n",
              "       -0.48925149, -0.48925149, -0.48925149, -0.48925149, -0.48925149,\n",
              "       -0.48925149, -0.48925149, -0.48925149, -0.48925149, -0.48925149,\n",
              "       -0.48925149, -0.48899434,  0.13388009, -0.48925149, -0.48925149,\n",
              "       -0.48925149, -0.48925149, -0.48925149,  3.2761681 , -0.48925149,\n",
              "       -0.48925149, -0.48925149, -0.48925149, -0.48925149, -0.48925149,\n",
              "       -0.48925149, -0.48925149, -0.48925149, -0.48925149, -0.48925149,\n",
              "       -0.48925149, -0.48925149, -0.48925149, -0.48925149, -0.48925149,\n",
              "       -0.48925149, -0.48925149, -0.48925149, -0.48925149, -0.48918677,\n",
              "       -0.48925149, -0.48925149, -0.48925149, -0.48925149, -0.48925149,\n",
              "       -0.48925149, -0.48925149, -0.48925149, -0.48925149, -0.48925149,\n",
              "       -0.48295826, -0.48925149, -0.48925149, -0.48925149, -0.48925149,\n",
              "       -0.48925149, -0.48925149, -0.48925149, -0.48925149, -0.48925149,\n",
              "       -0.48925149, -0.10102247, -0.48925149, -0.48925149, -0.48925149,\n",
              "       -0.48925149, -0.48925149, -0.48925149, -0.34954977, -0.48925149,\n",
              "       -0.48925149, -0.48925149, -0.48925149, -0.48925149, -0.48925149,\n",
              "       -0.48925149, -0.48925149, -0.48922647, -0.48925149, -0.48925149,\n",
              "       -0.48925149, -0.48925149, -0.48925149, -0.48925149,  0.24441467,\n",
              "       -0.48925149, -0.48925149, -0.48925149, -0.48925149, -0.48925149,\n",
              "       -0.48925149, -0.48925149, -0.48925149, -0.48925149, -0.48925149,\n",
              "       -0.48925149, -0.4891405 , -0.48912588, -0.48925149, -0.48925149,\n",
              "       -0.48925149, -0.48925149, -0.48925149, -0.48925149, -0.48925149,\n",
              "       -0.48925149, -0.40644267, -0.48925149, -0.48925149, -0.48925149,\n",
              "       -0.48925149, -0.48925149, -0.48925149, -0.48925149, -0.48925149,\n",
              "       -0.48925149, -0.48925149, -0.26139255, -0.48925149, -0.48925149,\n",
              "       -0.48925149, -0.48925149, -0.48925149, -0.48925149, -0.48925149,\n",
              "       -0.48925149, -0.48925149, -0.48527897, -0.48925149, -0.48925149,\n",
              "       -0.48925149, -0.48567815, -0.48925149, -0.48925149,  0.64159593,\n",
              "       -0.48912894, -0.48925149, -0.48925149, -0.48925149, -0.48925149,\n",
              "       -0.48925149, -0.48925149, -0.46128134, -0.48925149, -0.48925149,\n",
              "       -0.48925149, -0.48925149, -0.48925149, -0.48925149, -0.48925149,\n",
              "       -0.48925149, -0.48925149, -0.48925149, -0.48925149, -0.48925149,\n",
              "       -0.48925149, -0.48925149, -0.48925149, -0.48925149, -0.48925149,\n",
              "       -0.48925149, -0.48925149, -0.48925149, -0.48925149, -0.48925149,\n",
              "       -0.48925149, -0.48925149, -0.48925149, -0.48925149, -0.37174232,\n",
              "       -0.48925149, -0.48925149, -0.48925149, -0.48925149, -0.48925149,\n",
              "       -0.48925149,  0.05738331, -0.3119981 , -0.48925149, -0.48925149,\n",
              "       -0.48925149, -0.48925149, -0.48925149, -0.48925149, -0.48925149,\n",
              "       -0.48925149, -0.46822037, -0.23396873, -0.48925149, -0.48925149,\n",
              "       -0.20474145, -0.48925149, -0.48925149, -0.48925149, -0.48925149,\n",
              "       -0.48925149, -0.48925149, -0.4510163 , -0.48925149, -0.48925149,\n",
              "       -0.48925149, -0.48925149, -0.48925149, -0.48925149, -0.48925149,\n",
              "       -0.48903288, -0.48904678, -0.48925149, -0.48925149, -0.48925149,\n",
              "       -0.26881043, -0.48925149, -0.224933  , -0.48925149, -0.48925149,\n",
              "       -0.48925149, -0.48583454, -0.44283398, -0.48925149, -0.48925149,\n",
              "       -0.48925149, -0.48925149, -0.48925149, -0.48925149, -0.48925149,\n",
              "       -0.48922054, -0.48925149, -0.48925149, -0.48925149, -0.48811916,\n",
              "       -0.48925149, -0.48925149, -0.48925149, -0.48925149, -0.48925149,\n",
              "        0.09221857, -0.48925149, -0.48925149, -0.48925149, -0.4890046 ,\n",
              "       -0.48925149, -0.48925149, -0.48925149, -0.48925149, -0.48541293,\n",
              "       -0.48925149, -0.48925149, -0.17811701, -0.48925149, -0.48925149,\n",
              "       -0.48925149, -0.48925149, -0.48925149, -0.48925149, -0.48925149,\n",
              "       -0.48925149, -0.48925149, -0.12567934, -0.48820563, -0.48925149,\n",
              "       -0.48925149, -0.48925149,  0.56171014, -0.0807265 , -0.48925149,\n",
              "       -0.48925149, -0.48925149, -0.48925149, -0.48925149, -0.48925149,\n",
              "       -0.48925149, -0.48925149, -0.48925149, -0.48925149, -0.48925149,\n",
              "       -0.48925149, -0.48925149, -0.48925149, -0.48925149, -0.48924683,\n",
              "       -0.48925149, -0.45235316, -0.48925149, -0.48925149, -0.48925149,\n",
              "       -0.48925149, -0.48925149, -0.48925149, -0.48925149, -0.48925149])"
            ]
          },
          "metadata": {
            "tags": []
          },
          "execution_count": 17
        }
      ]
    },
    {
      "cell_type": "markdown",
      "metadata": {
        "id": "rnC6imcuu9Vg",
        "colab_type": "text"
      },
      "source": [
        "### 4.5"
      ]
    },
    {
      "cell_type": "code",
      "metadata": {
        "id": "VJBUImphu9Vh",
        "colab_type": "code",
        "outputId": "03479da5-1f31-4f5c-ed16-bbbd0349bc6e",
        "colab": {
          "base_uri": "https://localhost:8080/",
          "height": 1000
        }
      },
      "source": [
        "from scipy.optimize import check_grad\n",
        "\n",
        "def grad_l_in_phi_psi(u, phi, psi, ro=2):\n",
        "    \"\"\"u is either a np.array with (v, a, ksi) concatenated\n",
        "    either a list with the 3 params : [v, a, ksi] where each element is an np.array\"\"\"\n",
        "    #Lρ(v,a,ξ,φ,ψ) =12‖v‖22+cn∑i=1ξi+n∑i=1g(−ξi,φi) +n∑i=1g(−ξi+ 1−yi(x>iv+a),ψi)\n",
        "    v, a, ksi = infer_vaksi(u)\n",
        "    \n",
        "    grad_in_phi = grad_g_in_phi(- ksi, phi)\n",
        "    grad_in_psi = grad_g_in_phi(-ksi + 1 - y*(X.dot(v) + a), psi)\n",
        "    # Mathematically, we should do np.concatenate((grad_in_phi, grad_in_psi)) \n",
        "    # but here we won't because it's cumbersome for the algorithm\n",
        "    return grad_in_phi, grad_in_psi\n",
        "\n",
        "\n",
        "\n",
        "grad_l_in_phi_psi(np.random.random(m+1+n), np.ones(n,), np.ones(n,))\n",
        "\n"
      ],
      "execution_count": 0,
      "outputs": [
        {
          "output_type": "execute_result",
          "data": {
            "text/plain": [
              "(array([-0.5       , -0.5       , -0.05405331, -0.5       , -0.23092748,\n",
              "        -0.5       , -0.5       , -0.22615521, -0.32217648, -0.5       ,\n",
              "        -0.28399924, -0.5       , -0.3732183 , -0.5       , -0.39900101,\n",
              "        -0.43125092, -0.09447418, -0.06487222, -0.38787641, -0.5       ,\n",
              "        -0.5       , -0.22654472, -0.25185076, -0.23045459, -0.5       ,\n",
              "        -0.46381701, -0.29061303, -0.5       , -0.3393929 , -0.5       ,\n",
              "        -0.00516373, -0.5       , -0.37483953, -0.5       , -0.5       ,\n",
              "        -0.5       , -0.5       , -0.37270165, -0.33042697, -0.09701524,\n",
              "        -0.5       , -0.5       , -0.43725633, -0.25636234, -0.1940331 ,\n",
              "        -0.5       , -0.47940826, -0.12544891, -0.5       , -0.26306134,\n",
              "        -0.24041748, -0.11930675, -0.20929451, -0.30922197, -0.25174936,\n",
              "        -0.30092337, -0.16911206, -0.5       , -0.10917039, -0.24206797,\n",
              "        -0.39720017, -0.5       , -0.5       , -0.35077334, -0.14580874,\n",
              "        -0.08647781, -0.5       , -0.36239123, -0.45606132, -0.03524961,\n",
              "        -0.5       , -0.27726167, -0.5       , -0.32524934, -0.5       ,\n",
              "        -0.5       , -0.44036789, -0.00645924, -0.5       , -0.05216285,\n",
              "        -0.39977049, -0.5       , -0.06626209, -0.5       , -0.02984737,\n",
              "        -0.23030634, -0.13341092, -0.23272076, -0.46815257, -0.49168932,\n",
              "        -0.44711216, -0.5       , -0.46711566, -0.29135798, -0.5       ,\n",
              "        -0.02588768, -0.37156027, -0.5       , -0.40753989, -0.5       ,\n",
              "        -0.5       , -0.5       , -0.34262642, -0.5       , -0.5       ,\n",
              "        -0.5       , -0.1163534 , -0.12906639, -0.5       , -0.5       ,\n",
              "        -0.5       , -0.5       , -0.5       , -0.13547691, -0.5       ,\n",
              "        -0.31234156, -0.5       , -0.5       , -0.5       , -0.14322833,\n",
              "        -0.37086747, -0.4003556 , -0.5       , -0.25772229, -0.04870087,\n",
              "        -0.26695551, -0.1827877 , -0.5       , -0.12811607, -0.5       ,\n",
              "        -0.5       , -0.48543427, -0.25653314, -0.30418937, -0.5       ,\n",
              "        -0.11485653, -0.29418085, -0.09107402, -0.5       , -0.5       ,\n",
              "        -0.32314881, -0.45757885, -0.14407583, -0.17398485, -0.42980086,\n",
              "        -0.47782392, -0.5       , -0.23742793, -0.20409581, -0.5       ,\n",
              "        -0.46784398, -0.30370138, -0.23648913, -0.30966936, -0.5       ,\n",
              "        -0.26640016, -0.5       , -0.18491613, -0.37368216, -0.35237498,\n",
              "        -0.45436838, -0.12808129, -0.31716134, -0.46297798, -0.10753636,\n",
              "        -0.5       , -0.5       , -0.5       , -0.00419951, -0.5       ,\n",
              "        -0.11467752, -0.5       , -0.5       , -0.5       , -0.5       ,\n",
              "        -0.45011515, -0.44624543, -0.23182493, -0.341186  , -0.5       ,\n",
              "        -0.26503726, -0.42384124, -0.20901217, -0.5       , -0.27612019,\n",
              "        -0.19881307, -0.5       , -0.31261096, -0.46649497, -0.5       ,\n",
              "        -0.28826221, -0.5       , -0.5       , -0.5       , -0.5       ,\n",
              "        -0.27630494, -0.30435921, -0.5       , -0.36300261, -0.2048577 ,\n",
              "        -0.18403647, -0.01525176, -0.5       , -0.5       , -0.5       ,\n",
              "        -0.5       , -0.03982489, -0.2313963 , -0.5       , -0.5       ,\n",
              "        -0.5       , -0.5       , -0.5       , -0.5       , -0.5       ,\n",
              "        -0.5       , -0.5       , -0.5       , -0.00803295, -0.5       ,\n",
              "        -0.20260718, -0.12509641, -0.13325942, -0.28782601, -0.1985334 ,\n",
              "        -0.01273375, -0.21253044, -0.02224877, -0.40970539, -0.5       ,\n",
              "        -0.08635897, -0.48808114, -0.5       , -0.5       , -0.28592215,\n",
              "        -0.08097902, -0.5       , -0.12077283, -0.5       , -0.1635402 ,\n",
              "        -0.35730118, -0.5       , -0.11068434, -0.21035168, -0.47553335,\n",
              "        -0.5       , -0.5       , -0.10238324, -0.5       , -0.21754822,\n",
              "        -0.5       , -0.16511765, -0.5       , -0.5       , -0.1939616 ,\n",
              "        -0.47070453, -0.5       , -0.5       , -0.40806848, -0.5       ,\n",
              "        -0.5       , -0.5       , -0.36622554, -0.25853678, -0.1731279 ,\n",
              "        -0.36076133, -0.38329283, -0.19436597, -0.48359644, -0.5       ,\n",
              "        -0.5       , -0.36458706, -0.5       , -0.5       , -0.14777684,\n",
              "        -0.5       , -0.5       , -0.39233177, -0.22212472, -0.12650839,\n",
              "        -0.49981628, -0.44656813, -0.5       , -0.5       , -0.5       ,\n",
              "        -0.5       , -0.18246719, -0.5       , -0.5       , -0.5       ,\n",
              "        -0.21070458, -0.07145167, -0.1350948 , -0.31966554, -0.5       ,\n",
              "        -0.5       , -0.46337534, -0.17229509, -0.1559779 , -0.3060822 ,\n",
              "        -0.5       , -0.40903595, -0.5       , -0.49482648, -0.43679408,\n",
              "        -0.25206488, -0.5       , -0.5       , -0.33647035, -0.5       ,\n",
              "        -0.5       , -0.5       , -0.42854983, -0.5       , -0.1566807 ,\n",
              "        -0.17013523, -0.0738286 , -0.5       , -0.18309486, -0.04143792,\n",
              "        -0.5       , -0.5       , -0.39873619, -0.04785858, -0.13617471,\n",
              "        -0.1243845 , -0.09295703, -0.2274484 , -0.20526057, -0.5       ,\n",
              "        -0.5       , -0.06276108, -0.1022192 , -0.5       , -0.5       ,\n",
              "        -0.5       , -0.5       , -0.49158016, -0.5       , -0.5       ,\n",
              "        -0.5       , -0.5       , -0.5       , -0.5       , -0.5       ,\n",
              "        -0.5       , -0.5       , -0.36420184, -0.5       , -0.00092723,\n",
              "        -0.5       , -0.5       , -0.21150678, -0.5       , -0.5       ,\n",
              "        -0.5       , -0.5       , -0.11251852, -0.5       , -0.26130414,\n",
              "        -0.32094219, -0.5       , -0.21353811, -0.48236808, -0.5       ,\n",
              "        -0.41866586, -0.25891654, -0.30069195, -0.5       , -0.04148993,\n",
              "        -0.12226291, -0.5       , -0.5       , -0.5       , -0.5       ,\n",
              "        -0.19037845, -0.09388731, -0.24596167, -0.11209705, -0.24167699,\n",
              "        -0.5       , -0.5       , -0.5       , -0.01466913, -0.4504548 ,\n",
              "        -0.45874124, -0.23761878, -0.5       , -0.2160897 , -0.44347981,\n",
              "        -0.5       , -0.34083105, -0.5       , -0.42033999, -0.45996058,\n",
              "        -0.5       , -0.30507677, -0.5       , -0.12129332, -0.5       ,\n",
              "        -0.5       , -0.5       , -0.24239027, -0.5       , -0.5       ,\n",
              "        -0.5       , -0.5       , -0.5       , -0.5       , -0.5       ,\n",
              "        -0.5       , -0.5       , -0.35501327, -0.25388326, -0.5       ,\n",
              "        -0.5       , -0.06228443, -0.4099054 , -0.5       , -0.5       ,\n",
              "        -0.5       , -0.5       , -0.5       , -0.28237667, -0.25734645,\n",
              "        -0.02131071, -0.5       , -0.5       , -0.00400213, -0.21878615,\n",
              "        -0.5       , -0.00072372, -0.5       , -0.5       , -0.5       ,\n",
              "        -0.28884565, -0.5       , -0.5       , -0.5       , -0.5       ,\n",
              "        -0.31550693, -0.18327729, -0.5       , -0.09422801, -0.06869045,\n",
              "        -0.5       , -0.5       , -0.15293492, -0.38797753, -0.09627137,\n",
              "        -0.39455006, -0.5       , -0.5       , -0.5       , -0.5       ,\n",
              "        -0.5       , -0.5       , -0.5       , -0.30461713, -0.5       ,\n",
              "        -0.26269624, -0.5       , -0.24081633, -0.5       , -0.25058964,\n",
              "        -0.24019142, -0.31331466, -0.11368309, -0.02594125, -0.1571594 ,\n",
              "        -0.02979004, -0.5       , -0.5       , -0.41071449, -0.10901532,\n",
              "        -0.5       , -0.5       , -0.43999382, -0.5       , -0.5       ,\n",
              "        -0.5       , -0.46044151, -0.5       , -0.09714648, -0.28324719,\n",
              "        -0.5       , -0.5       , -0.5       , -0.49236922, -0.5       ,\n",
              "        -0.5       , -0.5       , -0.30398519, -0.11721166, -0.46670178,\n",
              "        -0.07980286, -0.5       , -0.29419471, -0.27917326, -0.18305753,\n",
              "        -0.5       , -0.33006159, -0.47231149, -0.5       , -0.5       ,\n",
              "        -0.5       , -0.27160173, -0.5       , -0.5       , -0.13532216,\n",
              "        -0.46626228, -0.0746926 , -0.5       , -0.20924891, -0.33255528,\n",
              "        -0.34143085, -0.5       , -0.43100217, -0.5       , -0.31380844,\n",
              "        -0.5       , -0.5       , -0.5       , -0.41098193, -0.33170443,\n",
              "        -0.5       , -0.05368075, -0.5       , -0.4025272 , -0.5       ,\n",
              "        -0.04283392, -0.5       , -0.5       , -0.21197197, -0.06714349,\n",
              "        -0.20213108, -0.5       , -0.5       , -0.5       , -0.31596249,\n",
              "        -0.20394856, -0.5       , -0.19459442, -0.19762085, -0.5       ,\n",
              "        -0.14473826, -0.34454324, -0.29332943, -0.5       , -0.5       ,\n",
              "        -0.5       , -0.5       , -0.5       , -0.35150664, -0.5       ,\n",
              "        -0.5       , -0.11202926, -0.32946017, -0.5       , -0.5       ,\n",
              "        -0.14985751, -0.42792929, -0.5       , -0.00083289, -0.08085306,\n",
              "        -0.5       , -0.5       , -0.5       , -0.31875811]),\n",
              " array([-5.00000000e-01, -5.00000000e-01, -5.00000000e-01, -5.00000000e-01,\n",
              "        -5.00000000e-01, -5.00000000e-01, -5.00000000e-01, -5.00000000e-01,\n",
              "        -5.00000000e-01, -5.00000000e-01,  2.66868451e+00, -5.00000000e-01,\n",
              "        -5.00000000e-01, -5.00000000e-01, -5.00000000e-01, -5.00000000e-01,\n",
              "         9.43808547e-01, -5.00000000e-01, -5.00000000e-01, -5.00000000e-01,\n",
              "        -5.00000000e-01, -5.00000000e-01, -5.00000000e-01, -5.00000000e-01,\n",
              "        -5.00000000e-01, -5.00000000e-01, -5.00000000e-01, -5.00000000e-01,\n",
              "        -5.00000000e-01, -5.00000000e-01, -5.00000000e-01, -5.00000000e-01,\n",
              "        -5.00000000e-01, -5.00000000e-01, -5.00000000e-01, -5.00000000e-01,\n",
              "        -5.00000000e-01, -5.00000000e-01,  3.57905604e+00,  1.97613104e-01,\n",
              "         6.30815271e+00, -5.00000000e-01, -5.00000000e-01, -5.00000000e-01,\n",
              "         2.53393895e+00, -5.00000000e-01, -5.00000000e-01, -5.00000000e-01,\n",
              "        -5.00000000e-01, -5.00000000e-01, -5.00000000e-01, -5.00000000e-01,\n",
              "        -5.00000000e-01, -5.00000000e-01,  3.40667795e+00, -5.00000000e-01,\n",
              "        -5.00000000e-01, -5.00000000e-01, -5.00000000e-01, -5.00000000e-01,\n",
              "        -5.00000000e-01, -2.45636149e-01, -5.00000000e-01, -5.00000000e-01,\n",
              "        -5.00000000e-01, -5.00000000e-01, -5.00000000e-01, -5.00000000e-01,\n",
              "         1.47199359e+01, -5.00000000e-01, -5.00000000e-01,  5.62676709e+00,\n",
              "        -5.00000000e-01,  3.22716338e+00, -5.00000000e-01, -5.00000000e-01,\n",
              "         1.20784589e+00, -5.00000000e-01, -5.00000000e-01, -5.00000000e-01,\n",
              "        -1.44899986e-01,  2.87203764e+00, -5.00000000e-01, -5.00000000e-01,\n",
              "        -5.00000000e-01, -5.00000000e-01, -5.00000000e-01, -5.00000000e-01,\n",
              "        -5.00000000e-01,  3.10398916e+00, -5.00000000e-01, -5.00000000e-01,\n",
              "        -5.00000000e-01, -5.00000000e-01, -5.00000000e-01, -5.00000000e-01,\n",
              "        -5.00000000e-01, -5.00000000e-01, -5.00000000e-01, -5.00000000e-01,\n",
              "         1.49460672e+00, -5.00000000e-01, -5.00000000e-01, -5.00000000e-01,\n",
              "        -5.00000000e-01, -5.00000000e-01,  1.97980660e-01, -5.00000000e-01,\n",
              "        -5.00000000e-01, -5.00000000e-01, -5.00000000e-01,  1.75934607e+00,\n",
              "         7.07326513e+00,  6.49817305e-01, -5.00000000e-01, -5.00000000e-01,\n",
              "        -5.00000000e-01, -5.00000000e-01, -5.00000000e-01, -5.00000000e-01,\n",
              "        -5.00000000e-01, -5.00000000e-01, -5.00000000e-01, -5.00000000e-01,\n",
              "        -5.00000000e-01, -5.00000000e-01,  2.27845249e+00, -5.00000000e-01,\n",
              "         3.79280038e+00, -5.00000000e-01, -5.00000000e-01, -5.00000000e-01,\n",
              "        -5.00000000e-01, -5.00000000e-01, -5.00000000e-01,  4.36148532e+00,\n",
              "        -5.00000000e-01, -5.00000000e-01, -5.00000000e-01, -5.00000000e-01,\n",
              "        -5.00000000e-01, -5.00000000e-01, -5.00000000e-01, -5.00000000e-01,\n",
              "        -5.00000000e-01,  2.34934236e+00, -5.00000000e-01,  3.42649814e+00,\n",
              "        -5.00000000e-01, -5.00000000e-01, -4.30454852e-01,  6.98479784e+00,\n",
              "         2.29873079e+01, -5.00000000e-01, -5.74835675e-02, -5.00000000e-01,\n",
              "        -5.00000000e-01, -5.00000000e-01, -5.00000000e-01, -5.00000000e-01,\n",
              "         2.40712698e+00, -5.00000000e-01, -5.00000000e-01,  1.72776635e-01,\n",
              "        -5.00000000e-01, -5.00000000e-01, -5.00000000e-01, -5.00000000e-01,\n",
              "        -5.00000000e-01, -5.00000000e-01, -5.00000000e-01,  2.74219786e+00,\n",
              "        -5.00000000e-01, -5.00000000e-01, -5.00000000e-01, -5.00000000e-01,\n",
              "         9.08177512e+00, -5.00000000e-01, -5.00000000e-01, -5.00000000e-01,\n",
              "        -5.00000000e-01, -5.00000000e-01, -5.00000000e-01, -5.00000000e-01,\n",
              "         2.50059526e+00, -5.00000000e-01,  2.12953977e+00, -5.00000000e-01,\n",
              "        -5.00000000e-01, -5.00000000e-01, -5.00000000e-01, -5.00000000e-01,\n",
              "        -5.00000000e-01, -5.00000000e-01, -5.00000000e-01, -5.00000000e-01,\n",
              "        -5.00000000e-01, -5.00000000e-01, -5.00000000e-01, -5.00000000e-01,\n",
              "        -5.00000000e-01, -5.00000000e-01, -5.00000000e-01, -5.00000000e-01,\n",
              "        -5.00000000e-01,  1.47769871e+00, -5.00000000e-01, -4.13411955e-01,\n",
              "         2.78660253e+00, -5.00000000e-01, -5.00000000e-01, -5.00000000e-01,\n",
              "        -5.00000000e-01, -5.00000000e-01, -5.00000000e-01, -5.00000000e-01,\n",
              "         1.79727842e+00, -5.00000000e-01, -5.00000000e-01, -5.00000000e-01,\n",
              "        -5.00000000e-01, -5.00000000e-01, -5.00000000e-01, -5.00000000e-01,\n",
              "        -5.00000000e-01, -5.00000000e-01, -5.00000000e-01, -5.00000000e-01,\n",
              "        -5.00000000e-01, -5.00000000e-01, -5.00000000e-01, -5.00000000e-01,\n",
              "        -5.00000000e-01, -5.00000000e-01, -5.00000000e-01, -5.00000000e-01,\n",
              "        -5.00000000e-01, -5.00000000e-01, -5.00000000e-01, -5.00000000e-01,\n",
              "        -5.00000000e-01, -5.00000000e-01,  5.68229236e+00, -5.00000000e-01,\n",
              "        -5.00000000e-01,  4.46930051e-01, -5.00000000e-01,  1.58002674e+00,\n",
              "        -5.00000000e-01, -5.00000000e-01, -5.00000000e-01, -5.00000000e-01,\n",
              "        -5.00000000e-01, -5.00000000e-01, -5.00000000e-01, -3.84322341e-01,\n",
              "        -5.00000000e-01, -5.00000000e-01, -5.00000000e-01, -5.00000000e-01,\n",
              "        -5.00000000e-01,  2.09563551e+00, -5.00000000e-01,  7.29686088e+00,\n",
              "        -5.00000000e-01, -5.00000000e-01, -5.00000000e-01, -5.00000000e-01,\n",
              "        -5.00000000e-01,  1.02464492e+00, -5.00000000e-01, -5.00000000e-01,\n",
              "        -5.00000000e-01, -5.00000000e-01, -2.98920778e-01, -3.58975688e-01,\n",
              "        -5.00000000e-01,  1.27789758e+00, -5.00000000e-01, -5.00000000e-01,\n",
              "        -5.00000000e-01, -5.00000000e-01, -5.00000000e-01, -5.00000000e-01,\n",
              "        -5.00000000e-01, -5.00000000e-01, -4.29130596e-01, -5.00000000e-01,\n",
              "         5.56182654e+00, -5.00000000e-01,  1.22124356e+01, -5.00000000e-01,\n",
              "        -5.00000000e-01, -5.00000000e-01, -5.00000000e-01, -5.00000000e-01,\n",
              "        -5.00000000e-01,  7.44497623e+00, -5.00000000e-01, -5.00000000e-01,\n",
              "        -5.00000000e-01, -5.00000000e-01, -5.00000000e-01, -5.00000000e-01,\n",
              "        -5.00000000e-01, -5.00000000e-01, -5.00000000e-01, -5.00000000e-01,\n",
              "        -5.00000000e-01, -5.00000000e-01, -5.00000000e-01, -5.00000000e-01,\n",
              "        -5.00000000e-01, -5.00000000e-01,  3.05286838e+00, -5.00000000e-01,\n",
              "        -5.00000000e-01, -5.00000000e-01,  6.92935644e+00, -5.00000000e-01,\n",
              "        -3.44941217e-01, -5.00000000e-01, -5.00000000e-01, -5.00000000e-01,\n",
              "        -5.00000000e-01, -5.00000000e-01, -5.00000000e-01, -5.00000000e-01,\n",
              "        -5.00000000e-01, -5.00000000e-01, -5.00000000e-01,  8.89147538e-01,\n",
              "        -5.00000000e-01, -5.00000000e-01, -5.00000000e-01, -5.00000000e-01,\n",
              "        -5.00000000e-01, -5.00000000e-01, -5.00000000e-01, -5.00000000e-01,\n",
              "        -2.08678017e-02, -5.00000000e-01, -5.00000000e-01, -5.00000000e-01,\n",
              "        -5.00000000e-01, -1.26248898e-01, -5.00000000e-01, -5.00000000e-01,\n",
              "        -5.00000000e-01, -5.00000000e-01, -5.00000000e-01, -5.00000000e-01,\n",
              "        -5.00000000e-01, -5.00000000e-01, -5.00000000e-01, -5.00000000e-01,\n",
              "         2.19566037e+00, -5.00000000e-01, -5.00000000e-01, -5.00000000e-01,\n",
              "        -5.00000000e-01, -5.00000000e-01, -5.00000000e-01, -5.00000000e-01,\n",
              "        -5.00000000e-01, -5.00000000e-01, -5.00000000e-01, -5.00000000e-01,\n",
              "        -5.00000000e-01, -5.00000000e-01, -5.00000000e-01, -5.00000000e-01,\n",
              "        -5.00000000e-01, -5.00000000e-01, -5.00000000e-01, -5.00000000e-01,\n",
              "         5.91160631e+00, -5.00000000e-01, -5.00000000e-01, -5.00000000e-01,\n",
              "        -5.00000000e-01, -5.00000000e-01, -5.00000000e-01,  1.19561664e+00,\n",
              "        -5.00000000e-01,  1.62099318e+00, -5.00000000e-01, -5.00000000e-01,\n",
              "         6.90775231e-01, -5.00000000e-01, -5.00000000e-01, -5.00000000e-01,\n",
              "        -5.00000000e-01, -5.00000000e-01, -5.00000000e-01, -5.00000000e-01,\n",
              "        -5.00000000e-01, -5.00000000e-01, -5.00000000e-01, -5.00000000e-01,\n",
              "        -5.00000000e-01, -5.00000000e-01, -5.00000000e-01, -5.00000000e-01,\n",
              "        -5.00000000e-01, -5.00000000e-01, -5.00000000e-01, -5.00000000e-01,\n",
              "        -5.00000000e-01, -5.00000000e-01, -5.00000000e-01, -5.00000000e-01,\n",
              "        -5.00000000e-01,  1.18693767e+00, -5.00000000e-01, -5.00000000e-01,\n",
              "         1.02748404e+00, -5.00000000e-01, -5.00000000e-01, -5.00000000e-01,\n",
              "        -5.00000000e-01,  5.73395278e+00, -5.00000000e-01, -5.00000000e-01,\n",
              "         1.61133049e+00, -5.00000000e-01, -5.00000000e-01, -5.00000000e-01,\n",
              "        -5.00000000e-01, -5.00000000e-01, -5.00000000e-01,  7.76875489e-01,\n",
              "        -5.00000000e-01, -5.00000000e-01, -5.00000000e-01, -6.22569815e-02,\n",
              "        -5.00000000e-01, -5.00000000e-01, -5.00000000e-01, -5.00000000e-01,\n",
              "        -3.67444935e-01, -5.00000000e-01, -5.00000000e-01, -5.00000000e-01,\n",
              "         1.24615441e+00, -5.00000000e-01, -5.00000000e-01, -5.00000000e-01,\n",
              "        -5.00000000e-01, -5.00000000e-01, -5.00000000e-01, -5.00000000e-01,\n",
              "        -5.00000000e-01, -5.00000000e-01, -5.00000000e-01, -5.00000000e-01,\n",
              "         1.18111115e+00, -5.00000000e-01, -5.00000000e-01, -5.00000000e-01,\n",
              "        -5.00000000e-01, -5.00000000e-01, -5.00000000e-01, -5.00000000e-01,\n",
              "        -5.00000000e-01,  4.22885434e+00, -5.00000000e-01, -5.00000000e-01,\n",
              "        -5.00000000e-01,  5.00291704e+00, -5.00000000e-01, -5.00000000e-01,\n",
              "        -5.00000000e-01, -5.00000000e-01, -5.00000000e-01, -5.00000000e-01,\n",
              "        -5.00000000e-01, -5.00000000e-01, -5.00000000e-01, -5.00000000e-01,\n",
              "        -5.00000000e-01, -5.00000000e-01, -5.00000000e-01, -5.00000000e-01,\n",
              "        -5.00000000e-01,  6.84179485e+00, -5.00000000e-01, -5.00000000e-01,\n",
              "        -5.00000000e-01,  1.97285592e+00, -5.00000000e-01, -5.00000000e-01,\n",
              "        -5.00000000e-01, -5.00000000e-01, -5.00000000e-01, -5.00000000e-01,\n",
              "        -4.34439734e-01, -5.00000000e-01, -5.00000000e-01, -5.00000000e-01,\n",
              "        -5.00000000e-01, -5.00000000e-01, -5.00000000e-01, -5.00000000e-01,\n",
              "         5.86392693e+00,  9.28973539e+00, -5.00000000e-01,  7.39370202e-01,\n",
              "        -5.00000000e-01, -5.00000000e-01, -5.00000000e-01, -5.00000000e-01,\n",
              "        -5.00000000e-01, -5.00000000e-01,  4.14811834e+00, -5.00000000e-01,\n",
              "        -5.00000000e-01, -5.00000000e-01, -5.00000000e-01, -5.00000000e-01,\n",
              "         3.01652379e+00, -5.00000000e-01, -5.00000000e-01, -5.00000000e-01,\n",
              "        -5.00000000e-01, -5.00000000e-01, -5.00000000e-01, -5.00000000e-01,\n",
              "         9.85237783e-01, -5.00000000e-01, -5.00000000e-01, -5.00000000e-01,\n",
              "        -5.00000000e-01, -5.00000000e-01, -5.00000000e-01, -5.00000000e-01,\n",
              "        -3.76164238e-01,  4.84832335e+00, -5.00000000e-01,  4.44746213e+00,\n",
              "        -5.00000000e-01,  4.75990494e+00, -5.00000000e-01, -5.00000000e-01,\n",
              "        -5.00000000e-01, -5.00000000e-01, -5.00000000e-01, -5.00000000e-01,\n",
              "        -5.00000000e-01, -5.00000000e-01, -5.00000000e-01, -5.00000000e-01,\n",
              "        -5.00000000e-01, -5.00000000e-01, -5.00000000e-01, -5.00000000e-01,\n",
              "        -5.00000000e-01, -5.00000000e-01, -5.00000000e-01, -5.00000000e-01,\n",
              "         8.59764565e-01, -5.00000000e-01, -5.00000000e-01, -5.00000000e-01,\n",
              "        -5.00000000e-01, -5.00000000e-01, -5.00000000e-01, -5.00000000e-01,\n",
              "        -5.00000000e-01]))"
            ]
          },
          "metadata": {
            "tags": []
          },
          "execution_count": 18
        }
      ]
    },
    {
      "cell_type": "code",
      "metadata": {
        "id": "6d_WI-Xru9Vj",
        "colab_type": "code",
        "colab": {}
      },
      "source": [
        ""
      ],
      "execution_count": 0,
      "outputs": []
    },
    {
      "cell_type": "markdown",
      "metadata": {
        "id": "b8N0W4T3u9Vm",
        "colab_type": "text"
      },
      "source": [
        "### 4.6"
      ]
    },
    {
      "cell_type": "code",
      "metadata": {
        "id": "ixJRnNRou9Vn",
        "colab_type": "code",
        "colab": {}
      },
      "source": [
        "def func_f_1(u):\n",
        "    v, a, ksi = infer_vaksi(u)\n",
        "    return .5*np.sum(v**2) + np.sum(ksi)\n",
        "\n",
        "def augmented_lagrangian(func_f, solve_grad_l, grad_l_in_v_a_ksi, grad_l_in_phi_psi, \n",
        "                         phi0=np.zeros(n), psi0=np.zeros(n), n=2000, ro=2):\n",
        "    k = 0\n",
        "    phi = phi0\n",
        "    psi = psi0\n",
        "    while k < n:\n",
        "        k = k+1\n",
        "        u = solve_grad_l(grad_l_in_v_a_ksi, phi, psi)\n",
        "        #print(func_f_1(u))\n",
        "        #print(func_f(u[:m], u[m]))\n",
        "        grad_phi, grad_psi = grad_l_in_phi_psi(u, phi, psi)\n",
        "        phi = phi + ro*grad_phi\n",
        "        psi = psi + ro*grad_psi\n",
        "    return u\n",
        "        \n",
        "augmented_lagrangian(func_f, solve_grad_l, grad_l_in_v_a_ksi, grad_l_in_phi_psi, n=2000)[:m+1]"
      ],
      "execution_count": 0,
      "outputs": []
    },
    {
      "cell_type": "code",
      "metadata": {
        "id": "6L6K5Z7Fu9Vq",
        "colab_type": "code",
        "outputId": "01ac2aa5-6f17-4c4d-8c99-c2ec5d05e4b5",
        "colab": {}
      },
      "source": [
        "# Here is the function value for a solution we found after 2000 iterations\n",
        "print('Final value of f :', func_f(np.array([ 0.05174917,  0.07545425,  0.05527832,  0.14754281,  0.07196709,\n",
        "       -0.68985781,  0.69142525,  0.92548095, -0.0602703 , -0.16372129,\n",
        "        0.90625349, -0.2866303 ,  0.2832346 ,  0.93238764,  0.28763493,\n",
        "       -0.26306783, -0.32564543,  0.44880844, -0.19270613, -0.75352012,\n",
        "        0.77936071,  1.05160644,  0.57247223,  0.9321838 ,  0.3479023 ,\n",
        "       -0.20592973,  0.75796568,  0.34854591,  0.59388106,  0.60411768]),\n",
        "        0.04307116))\n"
      ],
      "execution_count": 0,
      "outputs": [
        {
          "output_type": "stream",
          "text": [
            "Final value of f : 27.641158123053206\n"
          ],
          "name": "stdout"
        }
      ]
    },
    {
      "cell_type": "markdown",
      "metadata": {
        "id": "zz0my8e4u9Vt",
        "colab_type": "text"
      },
      "source": [
        "## 5. Comparaison\n",
        "\n",
        "### 5.1\n",
        "\n",
        "- The subgradient method is satisfactory and trustful. Overall, it's the fastest and it finds a very good minimum.\n",
        "- The stochastic gradient method takes way more iteration to converge. But each iteration requires less calculation and is performed quickly. Sometimes, however, it yields a much higher value than the subgradient method. \n",
        "- The augmented lagrangian requires more computation for each iteration, but converges super quickly iteration-wise. The minimum value is, however, stalls slightly higher than those of other techniques. \n",
        "\n",
        "Below are some benchmarks :\n",
        "\n",
        "- subgradient : 5000 iterations\n",
        "- stochastic subgradeint : 1 000 000 iterations\n",
        "- augmented lagrangian : 5 iterations (same result as for 2000 above)"
      ]
    },
    {
      "cell_type": "code",
      "metadata": {
        "id": "WO-MrlW4u9Vu",
        "colab_type": "code",
        "outputId": "5aacfc7f-adce-4b47-f156-159e38d33cd9",
        "colab": {}
      },
      "source": [
        "%%time\n",
        "minimizer = subgradient_method(func_f, dronde_f, np.zeros(m), 0, n=5000, store=False)\n",
        "print(func_f(minimizer[:-1], minimizer[-1]))"
      ],
      "execution_count": 0,
      "outputs": [
        {
          "output_type": "stream",
          "text": [
            "26.67549724027331\n",
            "CPU times: user 359 ms, sys: 4.05 ms, total: 363 ms\n",
            "Wall time: 183 ms\n"
          ],
          "name": "stdout"
        }
      ]
    },
    {
      "cell_type": "code",
      "metadata": {
        "id": "r7peZSZpu9Vx",
        "colab_type": "code",
        "outputId": "5b6e68c9-7824-4ba7-e718-0664582c59ae",
        "colab": {}
      },
      "source": [
        "%%time\n",
        "minimizer = stochastic_subgradient(func_f, dronde_f_i, np.zeros(m), 0, n_=int(1*1e6), store=False)\n",
        "print(func_f(minimizer[:-1], minimizer[-1]))"
      ],
      "execution_count": 0,
      "outputs": [
        {
          "output_type": "stream",
          "text": [
            "26.63963629348864\n",
            "CPU times: user 15.1 s, sys: 185 ms, total: 15.3 s\n",
            "Wall time: 15 s\n"
          ],
          "name": "stdout"
        }
      ]
    },
    {
      "cell_type": "code",
      "metadata": {
        "id": "BG76C0W0u9Vz",
        "colab_type": "code",
        "outputId": "ec52bf42-efa4-4960-d1fe-bc8ef4f3a3c6",
        "colab": {}
      },
      "source": [
        "%%time\n",
        "minimizer = augmented_lagrangian(func_f, solve_grad_l, grad_l_in_v_a_ksi, grad_l_in_phi_psi, n=5)\n",
        "print(func_f(minimizer[:m], minimizer[m]))"
      ],
      "execution_count": 0,
      "outputs": [
        {
          "output_type": "stream",
          "text": [
            "27.641157917155258\n",
            "CPU times: user 4.66 s, sys: 15.8 ms, total: 4.68 s\n",
            "Wall time: 2.34 s\n"
          ],
          "name": "stdout"
        }
      ]
    },
    {
      "cell_type": "code",
      "metadata": {
        "id": "nKKFHc24u9V2",
        "colab_type": "code",
        "colab": {}
      },
      "source": [
        ""
      ],
      "execution_count": 0,
      "outputs": []
    },
    {
      "cell_type": "code",
      "metadata": {
        "id": "yQ5Cwcblu9V5",
        "colab_type": "code",
        "colab": {}
      },
      "source": [
        ""
      ],
      "execution_count": 0,
      "outputs": []
    }
  ]
}